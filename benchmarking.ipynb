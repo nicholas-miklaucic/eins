{
 "cells": [
  {
   "cell_type": "code",
   "execution_count": 7,
   "metadata": {},
   "outputs": [],
   "source": [
    "from eins import EinsOp, Reductions as Red\n",
    "\n",
    "import jax\n",
    "import jax.numpy as jnp\n",
    "import numpy as np\n",
    "import torch"
   ]
  },
  {
   "cell_type": "code",
   "execution_count": 8,
   "metadata": {},
   "outputs": [],
   "source": [
    "x =  torch.randn(1024, 256, 3)\n",
    "y = torch.randn(1024, 256, 3)\n",
    "\n",
    "z4 = EinsOp('b n1 d, b n2 d -> b n1 n2', combine='add', reduce=Red.l2_norm)(x, -y)"
   ]
  },
  {
   "cell_type": "code",
   "execution_count": 6,
   "metadata": {},
   "outputs": [
    {
     "data": {
      "text/plain": [
       "Array(0., dtype=float32)"
      ]
     },
     "execution_count": 6,
     "metadata": {},
     "output_type": "execute_result"
    },
    {
     "name": "stdout",
     "output_type": "stream",
     "text": [
      "\u001b[0;31mSignature:\u001b[0m \u001b[0mz4\u001b[0m\u001b[0;34m.\u001b[0m\u001b[0mview\u001b[0m\u001b[0;34m(\u001b[0m\u001b[0mdtype\u001b[0m\u001b[0;34m:\u001b[0m \u001b[0;34m'DTypeLike | None'\u001b[0m \u001b[0;34m=\u001b[0m \u001b[0;32mNone\u001b[0m\u001b[0;34m,\u001b[0m \u001b[0mtype\u001b[0m\u001b[0;34m:\u001b[0m \u001b[0;34m'None'\u001b[0m \u001b[0;34m=\u001b[0m \u001b[0;32mNone\u001b[0m\u001b[0;34m)\u001b[0m \u001b[0;34m->\u001b[0m \u001b[0;34m'Array'\u001b[0m\u001b[0;34m\u001b[0m\u001b[0;34m\u001b[0m\u001b[0m\n",
      "\u001b[0;31mDocstring:\u001b[0m\n",
      "Return a bitwise copy of the array, viewed as a new dtype.\n",
      "\n",
      "This is fuller-featured wrapper around :func:`jax.lax.bitcast_convert_type`.\n",
      "\n",
      "If the source and target dtype have the same bitwidth, the result has the same\n",
      "shape as the input array. If the bitwidth of the target dtype is different\n",
      "from the source, the size of the last axis of the result is adjusted\n",
      "accordingly.\n",
      "\n",
      ">>> jnp.zeros([1,2,3], dtype=jnp.int16).view(jnp.int8).shape\n",
      "(1, 2, 6)\n",
      ">>> jnp.zeros([1,2,4], dtype=jnp.int8).view(jnp.int16).shape\n",
      "(1, 2, 2)\n",
      "\n",
      "Conversions involving booleans are not well-defined in all situations. With\n",
      "regards to the shape of result as explained above, booleans are treated as\n",
      "having a bitwidth of 8. However, when converting to a boolean array, the input\n",
      "should only contain 0 or 1 bytes. Otherwise, results may be unpredictable or\n",
      "may change depending on how the result is used.\n",
      "\n",
      "This conversion is guaranteed and safe:\n",
      ">>> jnp.array([1, 0, 1], dtype=jnp.int8).view(jnp.bool_)\n",
      "Array([ True, False,  True], dtype=bool)\n",
      "\n",
      "However, there are no guarantees about the results of any expression involving\n",
      "a view such as this: `jnp.array([1, 2, 3], dtype=jnp.int8).view(jnp.bool_)`.\n",
      "In particular, the results may change between JAX releases and depending on\n",
      "the platform. To safely convert such an array to a boolean array, compare it\n",
      "with `0`:\n",
      "\n",
      ">>> jnp.array([1, 2, 0], dtype=jnp.int8) != 0\n",
      "Array([ True,  True, False], dtype=bool)\n",
      "\u001b[0;31mFile:\u001b[0m      ~/.local/share/hatch/env/virtual/eins/sThVc9L5/eins/lib/python3.11/site-packages/jax/_src/numpy/array_methods.py\n",
      "\u001b[0;31mType:\u001b[0m      method"
     ]
    }
   ],
   "source": [
    "x: jax.Array = jnp.array(np.random.randn(1024, 256, 3))\n",
    "y: jax.Array = jnp.array(np.random.randn(1024, 256, 3))\n",
    "\n",
    "z4 = EinsOp('b n1 d, b n2 d -> b n1 n2', combine='add', reduce=Red.l2_norm)(x, -y)\n",
    "# Version without eins. Note how easy it would be to write x[:, None, ...] - y[:, :, None, ...],\n",
    "# which would lead to the transposed version of the pairwise distances you want.\n",
    "z5 = jnp.sqrt(jnp.sum(jnp.square(x[:, :, None, ...] - y[:, None, ...]), axis=-1))\n",
    "\n",
    "jnp.max(jnp.abs(z4 - z5))"
   ]
  },
  {
   "cell_type": "code",
   "execution_count": 3,
   "metadata": {},
   "outputs": [],
   "source": [
    "@jax.jit\n",
    "def jnp_pairwise_dist(x, y):\n",
    "    return jnp.sqrt(jnp.sum(jnp.square(x[:, :, None, ...] - y[:, None, ...]), axis=-1))\n",
    "\n",
    "@jax.jit\n",
    "def ein_pairwise_dist(x, y):\n",
    "    return EinsOp('b n1 d, b n2 d -> b n1 n2', combine='add', reduce=Red.l2_norm)(x, -y)\n",
    "\n",
    "d1 = jnp_pairwise_dist(x, y)\n",
    "d2 = ein_pairwise_dist(x, y)"
   ]
  },
  {
   "cell_type": "code",
   "execution_count": 4,
   "metadata": {},
   "outputs": [
    {
     "name": "stdout",
     "output_type": "stream",
     "text": [
      "63.5 ms ± 951 µs per loop (mean ± std. dev. of 7 runs, 10 loops each)\n"
     ]
    }
   ],
   "source": [
    "%%timeit\n",
    "jnp_pairwise_dist(x, y).block_until_ready()"
   ]
  },
  {
   "cell_type": "code",
   "execution_count": 5,
   "metadata": {},
   "outputs": [
    {
     "name": "stdout",
     "output_type": "stream",
     "text": [
      "69.7 ms ± 6.23 ms per loop (mean ± std. dev. of 7 runs, 10 loops each)\n"
     ]
    }
   ],
   "source": [
    "%%timeit\n",
    "ein_pairwise_dist(x, y).block_until_ready()"
   ]
  },
  {
   "cell_type": "code",
   "execution_count": 6,
   "metadata": {},
   "outputs": [
    {
     "data": {
      "text/plain": [
       "{ \u001b[34m\u001b[22m\u001b[1mlambda \u001b[39m\u001b[22m\u001b[22m; a\u001b[35m:f32[1024,256,3]\u001b[39m b\u001b[35m:f32[1024,256,3]\u001b[39m. \u001b[34m\u001b[22m\u001b[1mlet\n",
       "    \u001b[39m\u001b[22m\u001b[22mc\u001b[35m:f32[1024,256,256]\u001b[39m = pjit[\n",
       "      jaxpr={ \u001b[34m\u001b[22m\u001b[1mlambda \u001b[39m\u001b[22m\u001b[22m; d\u001b[35m:f32[1024,256,3]\u001b[39m e\u001b[35m:f32[1024,256,3]\u001b[39m. \u001b[34m\u001b[22m\u001b[1mlet\n",
       "          \u001b[39m\u001b[22m\u001b[22mf\u001b[35m:f32[1024,256,1,3]\u001b[39m = broadcast_in_dim[\n",
       "            broadcast_dimensions=(0, 1, 3)\n",
       "            shape=(1024, 256, 1, 3)\n",
       "          ] d\n",
       "          g\u001b[35m:f32[1024,1,256,3]\u001b[39m = broadcast_in_dim[\n",
       "            broadcast_dimensions=(0, 2, 3)\n",
       "            shape=(1024, 1, 256, 3)\n",
       "          ] e\n",
       "          h\u001b[35m:f32[1024,256,256,3]\u001b[39m = sub f g\n",
       "          i\u001b[35m:f32[1024,256,256,3]\u001b[39m = integer_pow[y=2] h\n",
       "          j\u001b[35m:f32[1024,256,256]\u001b[39m = reduce_sum[axes=(3,)] i\n",
       "          k\u001b[35m:f32[1024,256,256]\u001b[39m = sqrt j\n",
       "        \u001b[34m\u001b[22m\u001b[1min \u001b[39m\u001b[22m\u001b[22m(k,) }\n",
       "      name=jnp_pairwise_dist\n",
       "    ] a b\n",
       "  \u001b[34m\u001b[22m\u001b[1min \u001b[39m\u001b[22m\u001b[22m(c,) }"
      ]
     },
     "execution_count": 6,
     "metadata": {},
     "output_type": "execute_result"
    }
   ],
   "source": [
    "jax.make_jaxpr(jnp_pairwise_dist)(x, y)"
   ]
  },
  {
   "cell_type": "code",
   "execution_count": 7,
   "metadata": {},
   "outputs": [
    {
     "data": {
      "text/plain": [
       "{ \u001b[34m\u001b[22m\u001b[1mlambda \u001b[39m\u001b[22m\u001b[22m; a\u001b[35m:f32[1024,256,3]\u001b[39m b\u001b[35m:f32[1024,256,3]\u001b[39m. \u001b[34m\u001b[22m\u001b[1mlet\n",
       "    \u001b[39m\u001b[22m\u001b[22mc\u001b[35m:f32[1024,256,256]\u001b[39m = pjit[\n",
       "      jaxpr={ \u001b[34m\u001b[22m\u001b[1mlambda \u001b[39m\u001b[22m\u001b[22m; d\u001b[35m:f32[1024,256,3]\u001b[39m e\u001b[35m:f32[1024,256,3]\u001b[39m. \u001b[34m\u001b[22m\u001b[1mlet\n",
       "          \u001b[39m\u001b[22m\u001b[22mf\u001b[35m:f32[1024,256,3]\u001b[39m = neg e\n",
       "          g\u001b[35m:f32[1024,256,1,3]\u001b[39m = broadcast_in_dim[\n",
       "            broadcast_dimensions=(0, 1, 3)\n",
       "            shape=(1024, 256, 1, 3)\n",
       "          ] d\n",
       "          h\u001b[35m:f32[1024,1,256,3]\u001b[39m = broadcast_in_dim[\n",
       "            broadcast_dimensions=(0, 2, 3)\n",
       "            shape=(1024, 1, 256, 3)\n",
       "          ] f\n",
       "          i\u001b[35m:f32[1024,256,256,3]\u001b[39m = add g h\n",
       "          j\u001b[35m:f32[1024,256,256,3]\u001b[39m = integer_pow[y=2] i\n",
       "          k\u001b[35m:f32[1024,256,256]\u001b[39m = reduce_sum[axes=(3,)] j\n",
       "          l\u001b[35m:f32[1024,256,256]\u001b[39m = sqrt k\n",
       "        \u001b[34m\u001b[22m\u001b[1min \u001b[39m\u001b[22m\u001b[22m(l,) }\n",
       "      name=ein_pairwise_dist\n",
       "    ] a b\n",
       "  \u001b[34m\u001b[22m\u001b[1min \u001b[39m\u001b[22m\u001b[22m(c,) }"
      ]
     },
     "execution_count": 7,
     "metadata": {},
     "output_type": "execute_result"
    }
   ],
   "source": [
    "jax.make_jaxpr(ein_pairwise_dist)(x, y)"
   ]
  },
  {
   "cell_type": "code",
   "execution_count": 8,
   "metadata": {},
   "outputs": [
    {
     "data": {
      "text/plain": [
       "(1024, 256, 3)"
      ]
     },
     "execution_count": 8,
     "metadata": {},
     "output_type": "execute_result"
    }
   ],
   "source": [
    "x.shape"
   ]
  },
  {
   "cell_type": "code",
   "execution_count": 9,
   "metadata": {},
   "outputs": [],
   "source": [
    "op = EinsOp('a b c -> a b c 4')"
   ]
  },
  {
   "cell_type": "code",
   "execution_count": 10,
   "metadata": {},
   "outputs": [
    {
     "ename": "ValueError",
     "evalue": "['a', 'b', 'c'] != ['a', 'b', 'c', '4']",
     "output_type": "error",
     "traceback": [
      "\u001b[1;31m---------------------------------------------------------------------------\u001b[0m",
      "\u001b[1;31mValueError\u001b[0m                                Traceback (most recent call last)",
      "Cell \u001b[1;32mIn[10], line 1\u001b[0m\n\u001b[1;32m----> 1\u001b[0m \u001b[43mop\u001b[49m\u001b[43m(\u001b[49m\u001b[43mx\u001b[49m\u001b[43m)\u001b[49m\n",
      "File \u001b[1;32m~\\Github\\eins\\src\\eins\\einsop.py:317\u001b[0m, in \u001b[0;36mEinsOp.__call__\u001b[1;34m(self, *tensors)\u001b[0m\n\u001b[0;32m    313\u001b[0m     \u001b[38;5;28;01mraise\u001b[39;00m \u001b[38;5;167;01mValueError\u001b[39;00m(msg)\n\u001b[0;32m    315\u001b[0m \u001b[38;5;28mself\u001b[39m\u001b[38;5;241m.\u001b[39mstrat \u001b[38;5;241m=\u001b[39m BaseStrategy(\u001b[38;5;28mself\u001b[39m\u001b[38;5;241m.\u001b[39mprogram)\n\u001b[1;32m--> 317\u001b[0m \u001b[38;5;28;43mself\u001b[39;49m\u001b[38;5;241;43m.\u001b[39;49m\u001b[43mprogram\u001b[49m\u001b[38;5;241;43m.\u001b[39;49m\u001b[43mmake_path\u001b[49m\u001b[43m(\u001b[49m\u001b[38;5;28;43mself\u001b[39;49m\u001b[38;5;241;43m.\u001b[39;49m\u001b[43mstrat\u001b[49m\u001b[43m)\u001b[49m\n\u001b[0;32m    319\u001b[0m \u001b[38;5;28mself\u001b[39m\u001b[38;5;241m.\u001b[39mbackend \u001b[38;5;241m=\u001b[39m ArrayBackend(\u001b[38;5;28mself\u001b[39m\u001b[38;5;241m.\u001b[39mprogram\u001b[38;5;241m.\u001b[39mconstr)\n\u001b[0;32m    320\u001b[0m \u001b[38;5;28mself\u001b[39m\u001b[38;5;241m.\u001b[39minstructions \u001b[38;5;241m=\u001b[39m []\n",
      "File \u001b[1;32m~\\Github\\eins\\src\\eins\\program.py:206\u001b[0m, in \u001b[0;36mProgram.make_path\u001b[1;34m(self, strat)\u001b[0m\n\u001b[0;32m    203\u001b[0m         \u001b[38;5;28mself\u001b[39m\u001b[38;5;241m.\u001b[39moutputs\u001b[38;5;241m.\u001b[39mappend(strat\u001b[38;5;241m.\u001b[39mconnect(sink_input, sink))\n\u001b[0;32m    205\u001b[0m \u001b[38;5;28;01melse\u001b[39;00m:\n\u001b[1;32m--> 206\u001b[0m     \u001b[38;5;28mself\u001b[39m\u001b[38;5;241m.\u001b[39moutputs\u001b[38;5;241m.\u001b[39mappend(\u001b[43mstrat\u001b[49m\u001b[38;5;241;43m.\u001b[39;49m\u001b[43mconnect\u001b[49m\u001b[43m(\u001b[49m\u001b[38;5;28;43mself\u001b[39;49m\u001b[38;5;241;43m.\u001b[39;49m\u001b[43mcurrent\u001b[49m\u001b[43m,\u001b[49m\u001b[43m \u001b[49m\u001b[38;5;28;43mself\u001b[39;49m\u001b[38;5;241;43m.\u001b[39;49m\u001b[43msinks\u001b[49m\u001b[43m[\u001b[49m\u001b[38;5;241;43m0\u001b[39;49m\u001b[43m]\u001b[49m\u001b[43m)\u001b[49m)\n\u001b[0;32m    208\u001b[0m reverse_graph(\u001b[38;5;28mself\u001b[39m\u001b[38;5;241m.\u001b[39morig_sink)\n\u001b[0;32m    210\u001b[0m \u001b[38;5;28;01mfor\u001b[39;00m out, sink \u001b[38;5;129;01min\u001b[39;00m \u001b[38;5;28mzip\u001b[39m(\u001b[38;5;28mself\u001b[39m\u001b[38;5;241m.\u001b[39moutputs, \u001b[38;5;28mself\u001b[39m\u001b[38;5;241m.\u001b[39msinks):\n",
      "File \u001b[1;32m~\\Github\\eins\\src\\eins\\strategy.py:123\u001b[0m, in \u001b[0;36mBaseStrategy.connect\u001b[1;34m(self, start, goal)\u001b[0m\n\u001b[0;32m    121\u001b[0m \u001b[38;5;28;01mif\u001b[39;00m \u001b[38;5;28mset\u001b[39m(r_axs) \u001b[38;5;241m!=\u001b[39m \u001b[38;5;28mset\u001b[39m(goal_axes):\n\u001b[0;32m    122\u001b[0m     msg \u001b[38;5;241m=\u001b[39m \u001b[38;5;124mf\u001b[39m\u001b[38;5;124m'\u001b[39m\u001b[38;5;132;01m{\u001b[39;00mr_axs\u001b[38;5;132;01m}\u001b[39;00m\u001b[38;5;124m != \u001b[39m\u001b[38;5;132;01m{\u001b[39;00mgoal_axes\u001b[38;5;132;01m}\u001b[39;00m\u001b[38;5;124m'\u001b[39m\n\u001b[1;32m--> 123\u001b[0m     \u001b[38;5;28;01mraise\u001b[39;00m \u001b[38;5;167;01mValueError\u001b[39;00m(msg)\n\u001b[0;32m    125\u001b[0m perm \u001b[38;5;241m=\u001b[39m \u001b[38;5;28mtuple\u001b[39m(\u001b[38;5;28msorted\u001b[39m(\u001b[38;5;28mrange\u001b[39m(\u001b[38;5;28mlen\u001b[39m(r_axs)), key\u001b[38;5;241m=\u001b[39m\u001b[38;5;28;01mlambda\u001b[39;00m x: goal_axes\u001b[38;5;241m.\u001b[39mindex(r_axs[x])))\n\u001b[0;32m    127\u001b[0m out \u001b[38;5;241m=\u001b[39m \u001b[38;5;28mself\u001b[39m\u001b[38;5;241m.\u001b[39mapply_op(Transpose(perm), reduced)[\u001b[38;5;241m0\u001b[39m]\n",
      "\u001b[1;31mValueError\u001b[0m: ['a', 'b', 'c'] != ['a', 'b', 'c', '4']"
     ]
    }
   ],
   "source": [
    "op(x)"
   ]
  },
  {
   "cell_type": "code",
   "execution_count": null,
   "metadata": {},
   "outputs": [
    {
     "data": {
      "text/plain": [
       "str"
      ]
     },
     "execution_count": 13,
     "metadata": {},
     "output_type": "execute_result"
    }
   ],
   "source": [
    "type(op.program.constr.free_vars[0])"
   ]
  },
  {
   "cell_type": "code",
   "execution_count": null,
   "metadata": {},
   "outputs": [],
   "source": []
  }
 ],
 "metadata": {
  "kernelspec": {
   "display_name": "eins",
   "language": "python",
   "name": "python3"
  },
  "language_info": {
   "codemirror_mode": {
    "name": "ipython",
    "version": 3
   },
   "file_extension": ".py",
   "mimetype": "text/x-python",
   "name": "python",
   "nbconvert_exporter": "python",
   "pygments_lexer": "ipython3",
   "version": "3.11.5"
  }
 },
 "nbformat": 4,
 "nbformat_minor": 2
}
