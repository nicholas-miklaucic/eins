{
 "cells": [
  {
   "cell_type": "code",
   "execution_count": 1,
   "metadata": {},
   "outputs": [],
   "source": [
    "from eins import EinsOp, Reductions as Red\n",
    "\n",
    "import jax\n",
    "import jax.numpy as jnp\n",
    "import numpy as np"
   ]
  },
  {
   "cell_type": "code",
   "execution_count": 2,
   "metadata": {},
   "outputs": [
    {
     "name": "stderr",
     "output_type": "stream",
     "text": [
      "c:\\Users\\nicho\\miniforge3\\lib\\site-packages\\jax\\_src\\numpy\\array_methods.py:64: UserWarning: Explicitly requested dtype <class 'jax.numpy.float64'> requested in astype is not available, and will be truncated to dtype float32. To enable more dtypes, set the jax_enable_x64 configuration option or the JAX_ENABLE_X64 shell environment variable. See https://github.com/google/jax#current-gotchas for more.\n",
      "  return lax_numpy.astype(arr, dtype)\n"
     ]
    },
    {
     "data": {
      "text/plain": [
       "Array(0., dtype=float32)"
      ]
     },
     "execution_count": 2,
     "metadata": {},
     "output_type": "execute_result"
    }
   ],
   "source": [
    "x = jnp.array(np.random.randn(1024, 256, 3))\n",
    "y = jnp.array(np.random.randn(1024, 256, 3))\n",
    "\n",
    "z4 = EinsOp('b n1 d, b n2 d -> b n1 n2', combine='add', reduce=Red.l2_norm)(x, -y)\n",
    "\n",
    "# Version without eins. Note how easy it would be to write x[:, None, ...] - y[:, :, None, ...],\n",
    "# which would lead to the transposed version of the pairwise distances you want.\n",
    "z5 = jnp.sqrt(jnp.sum(jnp.square(x[:, :, None, ...] - y[:, None, ...]), axis=-1))\n",
    "\n",
    "jnp.max(jnp.abs(z4 - z5))"
   ]
  },
  {
   "cell_type": "code",
   "execution_count": 3,
   "metadata": {},
   "outputs": [],
   "source": [
    "@jax.jit\n",
    "def jnp_pairwise_dist(x, y):\n",
    "    return jnp.sqrt(jnp.sum(jnp.square(x[:, :, None, ...] - y[:, None, ...]), axis=-1))\n",
    "\n",
    "@jax.jit\n",
    "def ein_pairwise_dist(x, y):\n",
    "    return EinsOp('b n1 d, b n2 d -> b n1 n2', combine='add', reduce=Red.l2_norm)(x, -y)\n",
    "\n",
    "d1 = jnp_pairwise_dist(x, y)\n",
    "d2 = ein_pairwise_dist(x, y)"
   ]
  },
  {
   "cell_type": "code",
   "execution_count": 4,
   "metadata": {},
   "outputs": [
    {
     "name": "stdout",
     "output_type": "stream",
     "text": [
      "63.5 ms ± 951 µs per loop (mean ± std. dev. of 7 runs, 10 loops each)\n"
     ]
    }
   ],
   "source": [
    "%%timeit\n",
    "jnp_pairwise_dist(x, y).block_until_ready()"
   ]
  },
  {
   "cell_type": "code",
   "execution_count": 5,
   "metadata": {},
   "outputs": [
    {
     "name": "stdout",
     "output_type": "stream",
     "text": [
      "69.7 ms ± 6.23 ms per loop (mean ± std. dev. of 7 runs, 10 loops each)\n"
     ]
    }
   ],
   "source": [
    "%%timeit\n",
    "ein_pairwise_dist(x, y).block_until_ready()"
   ]
  },
  {
   "cell_type": "code",
   "execution_count": 6,
   "metadata": {},
   "outputs": [
    {
     "data": {
      "text/plain": [
       "{ \u001b[34m\u001b[22m\u001b[1mlambda \u001b[39m\u001b[22m\u001b[22m; a\u001b[35m:f32[1024,256,3]\u001b[39m b\u001b[35m:f32[1024,256,3]\u001b[39m. \u001b[34m\u001b[22m\u001b[1mlet\n",
       "    \u001b[39m\u001b[22m\u001b[22mc\u001b[35m:f32[1024,256,256]\u001b[39m = pjit[\n",
       "      jaxpr={ \u001b[34m\u001b[22m\u001b[1mlambda \u001b[39m\u001b[22m\u001b[22m; d\u001b[35m:f32[1024,256,3]\u001b[39m e\u001b[35m:f32[1024,256,3]\u001b[39m. \u001b[34m\u001b[22m\u001b[1mlet\n",
       "          \u001b[39m\u001b[22m\u001b[22mf\u001b[35m:f32[1024,256,1,3]\u001b[39m = broadcast_in_dim[\n",
       "            broadcast_dimensions=(0, 1, 3)\n",
       "            shape=(1024, 256, 1, 3)\n",
       "          ] d\n",
       "          g\u001b[35m:f32[1024,1,256,3]\u001b[39m = broadcast_in_dim[\n",
       "            broadcast_dimensions=(0, 2, 3)\n",
       "            shape=(1024, 1, 256, 3)\n",
       "          ] e\n",
       "          h\u001b[35m:f32[1024,256,256,3]\u001b[39m = sub f g\n",
       "          i\u001b[35m:f32[1024,256,256,3]\u001b[39m = integer_pow[y=2] h\n",
       "          j\u001b[35m:f32[1024,256,256]\u001b[39m = reduce_sum[axes=(3,)] i\n",
       "          k\u001b[35m:f32[1024,256,256]\u001b[39m = sqrt j\n",
       "        \u001b[34m\u001b[22m\u001b[1min \u001b[39m\u001b[22m\u001b[22m(k,) }\n",
       "      name=jnp_pairwise_dist\n",
       "    ] a b\n",
       "  \u001b[34m\u001b[22m\u001b[1min \u001b[39m\u001b[22m\u001b[22m(c,) }"
      ]
     },
     "execution_count": 6,
     "metadata": {},
     "output_type": "execute_result"
    }
   ],
   "source": [
    "jax.make_jaxpr(jnp_pairwise_dist)(x, y)"
   ]
  },
  {
   "cell_type": "code",
   "execution_count": 7,
   "metadata": {},
   "outputs": [
    {
     "data": {
      "text/plain": [
       "{ \u001b[34m\u001b[22m\u001b[1mlambda \u001b[39m\u001b[22m\u001b[22m; a\u001b[35m:f32[1024,256,3]\u001b[39m b\u001b[35m:f32[1024,256,3]\u001b[39m. \u001b[34m\u001b[22m\u001b[1mlet\n",
       "    \u001b[39m\u001b[22m\u001b[22mc\u001b[35m:f32[1024,256,256]\u001b[39m = pjit[\n",
       "      jaxpr={ \u001b[34m\u001b[22m\u001b[1mlambda \u001b[39m\u001b[22m\u001b[22m; d\u001b[35m:f32[1024,256,3]\u001b[39m e\u001b[35m:f32[1024,256,3]\u001b[39m. \u001b[34m\u001b[22m\u001b[1mlet\n",
       "          \u001b[39m\u001b[22m\u001b[22mf\u001b[35m:f32[1024,256,3]\u001b[39m = neg e\n",
       "          g\u001b[35m:f32[1024,256,1,3]\u001b[39m = broadcast_in_dim[\n",
       "            broadcast_dimensions=(0, 1, 3)\n",
       "            shape=(1024, 256, 1, 3)\n",
       "          ] d\n",
       "          h\u001b[35m:f32[1024,1,256,3]\u001b[39m = broadcast_in_dim[\n",
       "            broadcast_dimensions=(0, 2, 3)\n",
       "            shape=(1024, 1, 256, 3)\n",
       "          ] f\n",
       "          i\u001b[35m:f32[1024,256,256,3]\u001b[39m = add g h\n",
       "          j\u001b[35m:f32[1024,256,256,3]\u001b[39m = integer_pow[y=2] i\n",
       "          k\u001b[35m:f32[1024,256,256]\u001b[39m = reduce_sum[axes=(3,)] j\n",
       "          l\u001b[35m:f32[1024,256,256]\u001b[39m = sqrt k\n",
       "        \u001b[34m\u001b[22m\u001b[1min \u001b[39m\u001b[22m\u001b[22m(l,) }\n",
       "      name=ein_pairwise_dist\n",
       "    ] a b\n",
       "  \u001b[34m\u001b[22m\u001b[1min \u001b[39m\u001b[22m\u001b[22m(c,) }"
      ]
     },
     "execution_count": 7,
     "metadata": {},
     "output_type": "execute_result"
    }
   ],
   "source": [
    "jax.make_jaxpr(ein_pairwise_dist)(x, y)"
   ]
  },
  {
   "cell_type": "code",
   "execution_count": 8,
   "metadata": {},
   "outputs": [
    {
     "data": {
      "text/plain": [
       "(1024, 256, 3)"
      ]
     },
     "execution_count": 8,
     "metadata": {},
     "output_type": "execute_result"
    }
   ],
   "source": [
    "x.shape"
   ]
  },
  {
   "cell_type": "code",
   "execution_count": 9,
   "metadata": {},
   "outputs": [],
   "source": [
    "op = EinsOp('a b c -> a b c 4')"
   ]
  },
  {
   "cell_type": "code",
   "execution_count": 10,
   "metadata": {},
   "outputs": [
    {
     "ename": "ValueError",
     "evalue": "['a', 'b', 'c'] != ['a', 'b', 'c', '4']",
     "output_type": "error",
     "traceback": [
      "\u001b[1;31m---------------------------------------------------------------------------\u001b[0m",
      "\u001b[1;31mValueError\u001b[0m                                Traceback (most recent call last)",
      "Cell \u001b[1;32mIn[10], line 1\u001b[0m\n\u001b[1;32m----> 1\u001b[0m \u001b[43mop\u001b[49m\u001b[43m(\u001b[49m\u001b[43mx\u001b[49m\u001b[43m)\u001b[49m\n",
      "File \u001b[1;32m~\\Github\\eins\\src\\eins\\einsop.py:317\u001b[0m, in \u001b[0;36mEinsOp.__call__\u001b[1;34m(self, *tensors)\u001b[0m\n\u001b[0;32m    313\u001b[0m     \u001b[38;5;28;01mraise\u001b[39;00m \u001b[38;5;167;01mValueError\u001b[39;00m(msg)\n\u001b[0;32m    315\u001b[0m \u001b[38;5;28mself\u001b[39m\u001b[38;5;241m.\u001b[39mstrat \u001b[38;5;241m=\u001b[39m BaseStrategy(\u001b[38;5;28mself\u001b[39m\u001b[38;5;241m.\u001b[39mprogram)\n\u001b[1;32m--> 317\u001b[0m \u001b[38;5;28;43mself\u001b[39;49m\u001b[38;5;241;43m.\u001b[39;49m\u001b[43mprogram\u001b[49m\u001b[38;5;241;43m.\u001b[39;49m\u001b[43mmake_path\u001b[49m\u001b[43m(\u001b[49m\u001b[38;5;28;43mself\u001b[39;49m\u001b[38;5;241;43m.\u001b[39;49m\u001b[43mstrat\u001b[49m\u001b[43m)\u001b[49m\n\u001b[0;32m    319\u001b[0m \u001b[38;5;28mself\u001b[39m\u001b[38;5;241m.\u001b[39mbackend \u001b[38;5;241m=\u001b[39m ArrayBackend(\u001b[38;5;28mself\u001b[39m\u001b[38;5;241m.\u001b[39mprogram\u001b[38;5;241m.\u001b[39mconstr)\n\u001b[0;32m    320\u001b[0m \u001b[38;5;28mself\u001b[39m\u001b[38;5;241m.\u001b[39minstructions \u001b[38;5;241m=\u001b[39m []\n",
      "File \u001b[1;32m~\\Github\\eins\\src\\eins\\program.py:206\u001b[0m, in \u001b[0;36mProgram.make_path\u001b[1;34m(self, strat)\u001b[0m\n\u001b[0;32m    203\u001b[0m         \u001b[38;5;28mself\u001b[39m\u001b[38;5;241m.\u001b[39moutputs\u001b[38;5;241m.\u001b[39mappend(strat\u001b[38;5;241m.\u001b[39mconnect(sink_input, sink))\n\u001b[0;32m    205\u001b[0m \u001b[38;5;28;01melse\u001b[39;00m:\n\u001b[1;32m--> 206\u001b[0m     \u001b[38;5;28mself\u001b[39m\u001b[38;5;241m.\u001b[39moutputs\u001b[38;5;241m.\u001b[39mappend(\u001b[43mstrat\u001b[49m\u001b[38;5;241;43m.\u001b[39;49m\u001b[43mconnect\u001b[49m\u001b[43m(\u001b[49m\u001b[38;5;28;43mself\u001b[39;49m\u001b[38;5;241;43m.\u001b[39;49m\u001b[43mcurrent\u001b[49m\u001b[43m,\u001b[49m\u001b[43m \u001b[49m\u001b[38;5;28;43mself\u001b[39;49m\u001b[38;5;241;43m.\u001b[39;49m\u001b[43msinks\u001b[49m\u001b[43m[\u001b[49m\u001b[38;5;241;43m0\u001b[39;49m\u001b[43m]\u001b[49m\u001b[43m)\u001b[49m)\n\u001b[0;32m    208\u001b[0m reverse_graph(\u001b[38;5;28mself\u001b[39m\u001b[38;5;241m.\u001b[39morig_sink)\n\u001b[0;32m    210\u001b[0m \u001b[38;5;28;01mfor\u001b[39;00m out, sink \u001b[38;5;129;01min\u001b[39;00m \u001b[38;5;28mzip\u001b[39m(\u001b[38;5;28mself\u001b[39m\u001b[38;5;241m.\u001b[39moutputs, \u001b[38;5;28mself\u001b[39m\u001b[38;5;241m.\u001b[39msinks):\n",
      "File \u001b[1;32m~\\Github\\eins\\src\\eins\\strategy.py:123\u001b[0m, in \u001b[0;36mBaseStrategy.connect\u001b[1;34m(self, start, goal)\u001b[0m\n\u001b[0;32m    121\u001b[0m \u001b[38;5;28;01mif\u001b[39;00m \u001b[38;5;28mset\u001b[39m(r_axs) \u001b[38;5;241m!=\u001b[39m \u001b[38;5;28mset\u001b[39m(goal_axes):\n\u001b[0;32m    122\u001b[0m     msg \u001b[38;5;241m=\u001b[39m \u001b[38;5;124mf\u001b[39m\u001b[38;5;124m'\u001b[39m\u001b[38;5;132;01m{\u001b[39;00mr_axs\u001b[38;5;132;01m}\u001b[39;00m\u001b[38;5;124m != \u001b[39m\u001b[38;5;132;01m{\u001b[39;00mgoal_axes\u001b[38;5;132;01m}\u001b[39;00m\u001b[38;5;124m'\u001b[39m\n\u001b[1;32m--> 123\u001b[0m     \u001b[38;5;28;01mraise\u001b[39;00m \u001b[38;5;167;01mValueError\u001b[39;00m(msg)\n\u001b[0;32m    125\u001b[0m perm \u001b[38;5;241m=\u001b[39m \u001b[38;5;28mtuple\u001b[39m(\u001b[38;5;28msorted\u001b[39m(\u001b[38;5;28mrange\u001b[39m(\u001b[38;5;28mlen\u001b[39m(r_axs)), key\u001b[38;5;241m=\u001b[39m\u001b[38;5;28;01mlambda\u001b[39;00m x: goal_axes\u001b[38;5;241m.\u001b[39mindex(r_axs[x])))\n\u001b[0;32m    127\u001b[0m out \u001b[38;5;241m=\u001b[39m \u001b[38;5;28mself\u001b[39m\u001b[38;5;241m.\u001b[39mapply_op(Transpose(perm), reduced)[\u001b[38;5;241m0\u001b[39m]\n",
      "\u001b[1;31mValueError\u001b[0m: ['a', 'b', 'c'] != ['a', 'b', 'c', '4']"
     ]
    }
   ],
   "source": [
    "op(x)"
   ]
  },
  {
   "cell_type": "code",
   "execution_count": null,
   "metadata": {},
   "outputs": [
    {
     "data": {
      "text/plain": [
       "str"
      ]
     },
     "execution_count": 13,
     "metadata": {},
     "output_type": "execute_result"
    }
   ],
   "source": [
    "type(op.program.constr.free_vars[0])"
   ]
  },
  {
   "cell_type": "code",
   "execution_count": null,
   "metadata": {},
   "outputs": [],
   "source": []
  }
 ],
 "metadata": {
  "kernelspec": {
   "display_name": "eins",
   "language": "python",
   "name": "python3"
  },
  "language_info": {
   "codemirror_mode": {
    "name": "ipython",
    "version": 3
   },
   "file_extension": ".py",
   "mimetype": "text/x-python",
   "name": "python",
   "nbconvert_exporter": "python",
   "pygments_lexer": "ipython3",
   "version": "3.10.12"
  }
 },
 "nbformat": 4,
 "nbformat_minor": 2
}
