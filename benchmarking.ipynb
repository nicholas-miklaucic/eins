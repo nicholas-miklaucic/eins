{
 "cells": [
  {
   "cell_type": "code",
   "execution_count": 1,
   "metadata": {},
   "outputs": [],
   "source": [
    "from eins import EinsOp, Reductions as Red\n",
    "\n",
    "import jax\n",
    "import jax.numpy as jnp\n",
    "import numpy as np"
   ]
  },
  {
   "cell_type": "code",
   "execution_count": 2,
   "metadata": {},
   "outputs": [
    {
     "name": "stderr",
     "output_type": "stream",
     "text": [
      "An NVIDIA GPU may be present on this machine, but a CUDA-enabled jaxlib is not installed. Falling back to cpu.\n",
      "/home/nicholas/anaconda3/lib/python3.11/site-packages/jax/_src/numpy/array_methods.py:64: UserWarning: Explicitly requested dtype <class 'jax.numpy.float64'> requested in astype is not available, and will be truncated to dtype float32. To enable more dtypes, set the jax_enable_x64 configuration option or the JAX_ENABLE_X64 shell environment variable. See https://github.com/google/jax#current-gotchas for more.\n",
      "  return lax_numpy.astype(arr, dtype)\n"
     ]
    },
    {
     "data": {
      "text/plain": [
       "Array(9.536743e-07, dtype=float32)"
      ]
     },
     "execution_count": 2,
     "metadata": {},
     "output_type": "execute_result"
    }
   ],
   "source": [
    "x = jnp.array(np.random.randn(1024, 256, 3))\n",
    "y = jnp.array(np.random.randn(1024, 256, 3))\n",
    "\n",
    "z4 = EinsOp('b n1 d, b n2 d -> b n1 n2', combine='add', reduce=Red.l2_norm)(x, -y)\n",
    "\n",
    "# Version without eins. Note how easy it would be to write x[:, None, ...] - y[:, :, None, ...],\n",
    "# which would lead to the transposed version of the pairwise distances you want.\n",
    "z5 = jnp.sqrt(jnp.sum(jnp.square(x[:, :, None, ...] - y[:, None, ...]), axis=-1))\n",
    "\n",
    "jnp.max(jnp.abs(z4 - z5))"
   ]
  },
  {
   "cell_type": "code",
   "execution_count": 3,
   "metadata": {},
   "outputs": [],
   "source": [
    "@jax.jit\n",
    "def jnp_pairwise_dist(x, y):\n",
    "    return jnp.sqrt(jnp.sum(jnp.square(x[:, :, None, ...] - y[:, None, ...]), axis=-1))\n",
    "\n",
    "@jax.jit\n",
    "def ein_pairwise_dist(x, y):\n",
    "    return EinsOp('b n1 d, b n2 d -> b n1 n2', combine='add', reduce=Red.l2_norm)(x, -y)\n",
    "\n",
    "d1 = jnp_pairwise_dist(x, y)\n",
    "d2 = ein_pairwise_dist(x, y)"
   ]
  },
  {
   "cell_type": "code",
   "execution_count": 4,
   "metadata": {},
   "outputs": [
    {
     "name": "stdout",
     "output_type": "stream",
     "text": [
      "22.3 ms ± 1.1 ms per loop (mean ± std. dev. of 7 runs, 10 loops each)\n"
     ]
    }
   ],
   "source": [
    "%%timeit\n",
    "jnp_pairwise_dist(x, y).block_until_ready()"
   ]
  },
  {
   "cell_type": "code",
   "execution_count": 5,
   "metadata": {},
   "outputs": [
    {
     "name": "stdout",
     "output_type": "stream",
     "text": [
      "250 ms ± 16.2 ms per loop (mean ± std. dev. of 7 runs, 1 loop each)\n"
     ]
    }
   ],
   "source": [
    "%%timeit\n",
    "ein_pairwise_dist(x, y).block_until_ready()"
   ]
  },
  {
   "cell_type": "code",
   "execution_count": 6,
   "metadata": {},
   "outputs": [
    {
     "data": {
      "text/plain": [
       "{ \u001b[34m\u001b[22m\u001b[1mlambda \u001b[39m\u001b[22m\u001b[22m; a\u001b[35m:f32[1024,256,3]\u001b[39m b\u001b[35m:f32[1024,256,3]\u001b[39m. \u001b[34m\u001b[22m\u001b[1mlet\n",
       "    \u001b[39m\u001b[22m\u001b[22mc\u001b[35m:f32[1024,256,256]\u001b[39m = pjit[\n",
       "      jaxpr={ \u001b[34m\u001b[22m\u001b[1mlambda \u001b[39m\u001b[22m\u001b[22m; d\u001b[35m:f32[1024,256,3]\u001b[39m e\u001b[35m:f32[1024,256,3]\u001b[39m. \u001b[34m\u001b[22m\u001b[1mlet\n",
       "          \u001b[39m\u001b[22m\u001b[22mf\u001b[35m:f32[1024,256,1,3]\u001b[39m = broadcast_in_dim[\n",
       "            broadcast_dimensions=(0, 1, 3)\n",
       "            shape=(1024, 256, 1, 3)\n",
       "          ] d\n",
       "          g\u001b[35m:f32[1024,1,256,3]\u001b[39m = broadcast_in_dim[\n",
       "            broadcast_dimensions=(0, 2, 3)\n",
       "            shape=(1024, 1, 256, 3)\n",
       "          ] e\n",
       "          h\u001b[35m:f32[1024,256,256,3]\u001b[39m = sub f g\n",
       "          i\u001b[35m:f32[1024,256,256,3]\u001b[39m = integer_pow[y=2] h\n",
       "          j\u001b[35m:f32[1024,256,256]\u001b[39m = reduce_sum[axes=(3,)] i\n",
       "          k\u001b[35m:f32[1024,256,256]\u001b[39m = sqrt j\n",
       "        \u001b[34m\u001b[22m\u001b[1min \u001b[39m\u001b[22m\u001b[22m(k,) }\n",
       "      name=jnp_pairwise_dist\n",
       "    ] a b\n",
       "  \u001b[34m\u001b[22m\u001b[1min \u001b[39m\u001b[22m\u001b[22m(c,) }"
      ]
     },
     "execution_count": 6,
     "metadata": {},
     "output_type": "execute_result"
    }
   ],
   "source": [
    "jax.make_jaxpr(jnp_pairwise_dist)(x, y)"
   ]
  },
  {
   "cell_type": "code",
   "execution_count": 7,
   "metadata": {},
   "outputs": [
    {
     "data": {
      "text/plain": [
       "{ \u001b[34m\u001b[22m\u001b[1mlambda \u001b[39m\u001b[22m\u001b[22m; a\u001b[35m:f32[1024,256,3]\u001b[39m b\u001b[35m:f32[1024,256,3]\u001b[39m. \u001b[34m\u001b[22m\u001b[1mlet\n",
       "    \u001b[39m\u001b[22m\u001b[22mc\u001b[35m:f32[1024,256,256]\u001b[39m = pjit[\n",
       "      jaxpr={ \u001b[34m\u001b[22m\u001b[1mlambda \u001b[39m\u001b[22m\u001b[22m; d\u001b[35m:f32[1024,256,3]\u001b[39m e\u001b[35m:f32[1024,256,3]\u001b[39m. \u001b[34m\u001b[22m\u001b[1mlet\n",
       "          \u001b[39m\u001b[22m\u001b[22mf\u001b[35m:f32[1024,256,3]\u001b[39m = neg e\n",
       "          g\u001b[35m:f32[1024,256,3,1]\u001b[39m = broadcast_in_dim[\n",
       "            broadcast_dimensions=(0, 1, 2)\n",
       "            shape=(1024, 256, 3, 1)\n",
       "          ] d\n",
       "          h\u001b[35m:f32[1024,3,256]\u001b[39m = transpose[permutation=(0, 2, 1)] f\n",
       "          i\u001b[35m:f32[1024,1,3,256]\u001b[39m = broadcast_in_dim[\n",
       "            broadcast_dimensions=(0, 2, 3)\n",
       "            shape=(1024, 1, 3, 256)\n",
       "          ] h\n",
       "          j\u001b[35m:f32[1024,256,3,256]\u001b[39m = add g i\n",
       "          k\u001b[35m:f32[1024,256,3,256]\u001b[39m = integer_pow[y=2] j\n",
       "          l\u001b[35m:f32[1024,256,256]\u001b[39m = reduce_sum[axes=(2,)] k\n",
       "          m\u001b[35m:f32[1024,256,256]\u001b[39m = sqrt l\n",
       "        \u001b[34m\u001b[22m\u001b[1min \u001b[39m\u001b[22m\u001b[22m(m,) }\n",
       "      name=ein_pairwise_dist\n",
       "    ] a b\n",
       "  \u001b[34m\u001b[22m\u001b[1min \u001b[39m\u001b[22m\u001b[22m(c,) }"
      ]
     },
     "execution_count": 7,
     "metadata": {},
     "output_type": "execute_result"
    }
   ],
   "source": [
    "jax.make_jaxpr(ein_pairwise_dist)(x, y)"
   ]
  },
  {
   "cell_type": "code",
   "execution_count": null,
   "metadata": {},
   "outputs": [],
   "source": []
  }
 ],
 "metadata": {
  "kernelspec": {
   "display_name": "eins",
   "language": "python",
   "name": "python3"
  },
  "language_info": {
   "codemirror_mode": {
    "name": "ipython",
    "version": 3
   },
   "file_extension": ".py",
   "mimetype": "text/x-python",
   "name": "python",
   "nbconvert_exporter": "python",
   "pygments_lexer": "ipython3",
   "version": "3.11.5"
  }
 },
 "nbformat": 4,
 "nbformat_minor": 2
}
